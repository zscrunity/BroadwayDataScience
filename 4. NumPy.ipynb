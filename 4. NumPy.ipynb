{
 "cells": [
  {
   "cell_type": "code",
   "execution_count": 1,
   "id": "275ccd5d",
   "metadata": {},
   "outputs": [
    {
     "name": "stdout",
     "output_type": "stream",
     "text": [
      "Requirement already satisfied: numpy in c:\\users\\user\\anaconda3\\lib\\site-packages (1.23.5)\n"
     ]
    }
   ],
   "source": [
    "!pip install numpy"
   ]
  },
  {
   "cell_type": "code",
   "execution_count": 1,
   "id": "fd115ccd",
   "metadata": {},
   "outputs": [
    {
     "data": {
      "text/plain": [
       "'1.23.5'"
      ]
     },
     "execution_count": 1,
     "metadata": {},
     "output_type": "execute_result"
    }
   ],
   "source": [
    "import numpy as np\n",
    "np.__version__"
   ]
  },
  {
   "cell_type": "code",
   "execution_count": 3,
   "id": "3451af94",
   "metadata": {},
   "outputs": [
    {
     "data": {
      "text/plain": [
       "array([ 1,  2,  3,  4,  5,  6,  7,  8,  9, 10])"
      ]
     },
     "execution_count": 3,
     "metadata": {},
     "output_type": "execute_result"
    }
   ],
   "source": [
    "a = [1,2,3,4,5,6,7,8,9,10]\n",
    "np_array = np.array(a)\n",
    "np_array"
   ]
  },
  {
   "cell_type": "code",
   "execution_count": 4,
   "id": "fcec018e",
   "metadata": {},
   "outputs": [
    {
     "name": "stdout",
     "output_type": "stream",
     "text": [
      "[11 12 13 14 15 16 17 18 19 20]\n",
      "[-9 -8 -7 -6 -5 -4 -3 -2 -1  0]\n",
      "[ 10  20  30  40  50  60  70  80  90 100]\n",
      "[0.1 0.2 0.3 0.4 0.5 0.6 0.7 0.8 0.9 1. ]\n"
     ]
    }
   ],
   "source": [
    "print(np_array + 10)\n",
    "print(np_array - 10)\n",
    "print(np_array * 10)\n",
    "print(np_array / 10)"
   ]
  },
  {
   "cell_type": "code",
   "execution_count": 5,
   "id": "2ee61479",
   "metadata": {},
   "outputs": [
    {
     "data": {
      "text/plain": [
       "(10,)"
      ]
     },
     "execution_count": 5,
     "metadata": {},
     "output_type": "execute_result"
    }
   ],
   "source": [
    "a = [1,2,3,4,5,6,7,8,9,10]\n",
    "np_array = np.array(a)\n",
    "np_array.shape"
   ]
  },
  {
   "cell_type": "code",
   "execution_count": 8,
   "id": "aada6e02",
   "metadata": {},
   "outputs": [
    {
     "name": "stdout",
     "output_type": "stream",
     "text": [
      "(3, 3, 3)\n",
      "int32\n"
     ]
    }
   ],
   "source": [
    "a = [[[1,1,1],[2,2,2],[3,3,3]],\n",
    "     [[4,4,4],[5,5,5],[6,6,6]],\n",
    "     [[7,7,7],[8,8,8],[9,9,9]]]\n",
    "np_array = np.array(a)\n",
    "print(np_array.shape)\n",
    "print(np_array.dtype)"
   ]
  },
  {
   "cell_type": "code",
   "execution_count": 9,
   "id": "ca5439a1",
   "metadata": {},
   "outputs": [
    {
     "data": {
      "text/plain": [
       "array([[1., 1., 1.],\n",
       "       [1., 1., 1.],\n",
       "       [1., 1., 1.]])"
      ]
     },
     "execution_count": 9,
     "metadata": {},
     "output_type": "execute_result"
    }
   ],
   "source": [
    "np.ones((3,3))"
   ]
  },
  {
   "cell_type": "code",
   "execution_count": 12,
   "id": "eb049b13",
   "metadata": {},
   "outputs": [
    {
     "name": "stdout",
     "output_type": "stream",
     "text": [
      "[[1 2 3 4 5 6]]\n",
      "[[1]\n",
      " [2]\n",
      " [3]\n",
      " [4]\n",
      " [5]\n",
      " [6]]\n",
      "[[1 2 3]\n",
      " [4 5 6]]\n",
      "[[1 2]\n",
      " [3 4]\n",
      " [5 6]]\n"
     ]
    }
   ],
   "source": [
    "# Reshape\n",
    "# 6 -> 1 * 6\n",
    "# 6 -> 6 * 1\n",
    "# 6 -> 2 * 3\n",
    "# 6 -> 3 * 2\n",
    "\n",
    "i = [[1,2,3],\n",
    "     [4,5,6]]\n",
    "\n",
    "np_array = np.array(a)\n",
    "print(np_array.reshape(1,6))\n",
    "print(np_array.reshape(6,1))\n",
    "print(np_array.reshape(2,3))\n",
    "print(np_array.reshape(3,2))"
   ]
  },
  {
   "cell_type": "code",
   "execution_count": 15,
   "id": "5c184f64",
   "metadata": {},
   "outputs": [
    {
     "name": "stdout",
     "output_type": "stream",
     "text": [
      "[ 7  9 11 13 15]\n"
     ]
    }
   ],
   "source": [
    "a = np.array([1,2,3,4,5])\n",
    "b = np.array([6,7,8,9,10])\n",
    "c = a + b\n",
    "print(c)"
   ]
  },
  {
   "cell_type": "code",
   "execution_count": 16,
   "id": "5e913a6e",
   "metadata": {},
   "outputs": [
    {
     "data": {
      "text/plain": [
       "array([ 1,  2,  3,  4,  5,  6,  7,  8,  9, 10])"
      ]
     },
     "execution_count": 16,
     "metadata": {},
     "output_type": "execute_result"
    }
   ],
   "source": [
    "a = np.array([1,2,3,4,5])\n",
    "b = np.array([6,7,8,9,10])\n",
    "np.hstack((a,b))"
   ]
  },
  {
   "cell_type": "code",
   "execution_count": 17,
   "id": "523b6bff",
   "metadata": {},
   "outputs": [
    {
     "data": {
      "text/plain": [
       "array([[ 1,  2,  3,  4,  5],\n",
       "       [ 6,  7,  8,  9, 10]])"
      ]
     },
     "execution_count": 17,
     "metadata": {},
     "output_type": "execute_result"
    }
   ],
   "source": [
    "a = np.array([1,2,3,4,5])\n",
    "b = np.array([6,7,8,9,10])\n",
    "np.vstack((a,b))"
   ]
  },
  {
   "cell_type": "code",
   "execution_count": 19,
   "id": "6effa7d4",
   "metadata": {},
   "outputs": [
    {
     "data": {
      "text/plain": [
       "array([ 6.+30.j, 14.+21.j, 24.+16.j, 36.+27.j, 50.+20.j])"
      ]
     },
     "execution_count": 19,
     "metadata": {},
     "output_type": "execute_result"
    }
   ],
   "source": [
    "a = np.array([1+5j,2+3j,3+2j,4+3j,5+2j])\n",
    "b = np.array([6,7,8,9,10])\n",
    "a*b"
   ]
  },
  {
   "cell_type": "code",
   "execution_count": 20,
   "id": "79301a96",
   "metadata": {},
   "outputs": [
    {
     "name": "stdout",
     "output_type": "stream",
     "text": [
      "[[0.08971602 0.49318927 0.82028032 0.94485322 0.21068251]\n",
      " [0.11107343 0.96076185 0.85383973 0.17266259 0.80073345]\n",
      " [0.98319083 0.97377959 0.97414215 0.74457333 0.45113256]\n",
      " [0.6686823  0.68901394 0.49258703 0.27211715 0.1255245 ]\n",
      " [0.35391089 0.33775684 0.71828717 0.02573323 0.42657459]]\n"
     ]
    }
   ],
   "source": [
    "# Random Numbers\n",
    "print(np.random.rand(5,5))"
   ]
  },
  {
   "cell_type": "code",
   "execution_count": 21,
   "id": "c078ad97",
   "metadata": {},
   "outputs": [
    {
     "name": "stdout",
     "output_type": "stream",
     "text": [
      "[[2 8 3 8 3]\n",
      " [3 3 6 7 7]\n",
      " [9 1 3 7 7]\n",
      " [2 9 6 8 7]\n",
      " [2 3 7 0 3]]\n"
     ]
    }
   ],
   "source": [
    "print(np.random.randint(0,10,size=[5,5]))"
   ]
  },
  {
   "cell_type": "code",
   "execution_count": 22,
   "id": "da3e92d4",
   "metadata": {},
   "outputs": [
    {
     "name": "stdout",
     "output_type": "stream",
     "text": [
      "[[2 0 7 ... 0 1 7]\n",
      " [6 2 0 ... 1 7 9]\n",
      " [4 8 6 ... 2 4 8]\n",
      " ...\n",
      " [7 0 8 ... 5 4 7]\n",
      " [5 1 8 ... 0 7 2]\n",
      " [8 5 3 ... 8 8 0]]\n"
     ]
    }
   ],
   "source": [
    "print(np.random.randint(0,10,size=[100,100]))"
   ]
  },
  {
   "cell_type": "code",
   "execution_count": 23,
   "id": "9f20baad",
   "metadata": {},
   "outputs": [
    {
     "name": "stdout",
     "output_type": "stream",
     "text": [
      "[[0.63771998 0.18649421 0.66591053 0.03782443 0.09332726]\n",
      " [0.84518068 0.47694827 0.40288545 0.27041825 0.77704726]\n",
      " [0.44683579 0.95566432 0.93696694 0.37869333 0.33773892]\n",
      " [0.121677   0.58405919 0.39234507 0.79123807 0.22682085]\n",
      " [0.74156599 0.29797219 0.41340013 0.21198292 0.81459378]]\n"
     ]
    }
   ],
   "source": [
    "print(np.random.random(size=[5,5]))"
   ]
  },
  {
   "cell_type": "code",
   "execution_count": 25,
   "id": "1438d8b8",
   "metadata": {},
   "outputs": [
    {
     "name": "stdout",
     "output_type": "stream",
     "text": [
      "['u' 'u' 'e' 'i' 'o' 'e' 'e' 'i' 'i' 'o']\n"
     ]
    }
   ],
   "source": [
    "print(np.random.choice(['a','e','i','o','u'], size = 10))"
   ]
  },
  {
   "cell_type": "code",
   "execution_count": 26,
   "id": "7c665d67",
   "metadata": {},
   "outputs": [
    {
     "name": "stdout",
     "output_type": "stream",
     "text": [
      "['a' 'a' 'a' 'o' 'u' 'i' 'e' 'o' 'o' 'u']\n"
     ]
    }
   ],
   "source": [
    "print(np.random.choice(['a','e','i','o','u'], size = 10, p = [0.3,0.1,0.1,0.4,0.1]))"
   ]
  },
  {
   "cell_type": "code",
   "execution_count": 20,
   "id": "2f429272",
   "metadata": {},
   "outputs": [
    {
     "name": "stdout",
     "output_type": "stream",
     "text": [
      "The minimum value =  1\n",
      "The maximum value =  10\n",
      "The mean value =  5.5\n",
      "The median value =  5.5\n",
      "The standard deviation value =  2.8722813232690143\n"
     ]
    }
   ],
   "source": [
    "na = np.array([1,2,3,4,5,6,7,8,9,10])\n",
    "print(\"The minimum value = \" , np.min(na))\n",
    "print(\"The maximum value = \" , np.max(na))\n",
    "print(\"The mean value = \" , np.mean(na))\n",
    "print(\"The median value = \" , np.median(na))\n",
    "print(\"The standard deviation value = \" , np.std(na))"
   ]
  },
  {
   "cell_type": "code",
   "execution_count": 17,
   "id": "24fd49d4",
   "metadata": {},
   "outputs": [
    {
     "data": {
      "text/plain": [
       "[1, 23, 34, 34, 45, 45, 56, 67, 67, 78, 78, 89, 89, 90, 340]"
      ]
     },
     "execution_count": 17,
     "metadata": {},
     "output_type": "execute_result"
    }
   ],
   "source": [
    "a = [34,56,78,23,45,67,89,1,89,45,67,34,78,90,340]\n",
    "a.sort()\n",
    "a"
   ]
  },
  {
   "cell_type": "code",
   "execution_count": 18,
   "id": "3096bab6",
   "metadata": {},
   "outputs": [
    {
     "data": {
      "text/plain": [
       "75.13673461688956"
      ]
     },
     "execution_count": 18,
     "metadata": {},
     "output_type": "execute_result"
    }
   ],
   "source": [
    "np.median(a)\n",
    "np.std(a)"
   ]
  },
  {
   "cell_type": "code",
   "execution_count": 21,
   "id": "146dec82",
   "metadata": {},
   "outputs": [
    {
     "data": {
      "text/plain": [
       "259.0"
      ]
     },
     "execution_count": 21,
     "metadata": {},
     "output_type": "execute_result"
    }
   ],
   "source": [
    "# Matrix Operation\n",
    "import scipy.linalg as slin\n",
    "import numpy as np\n",
    "a = np.array([[3, -5 , 8],\n",
    "              [-1 ,2 ,3],\n",
    "              [-5,-6,2]])\n",
    "\n",
    "slin.det(a)"
   ]
  },
  {
   "cell_type": "code",
   "execution_count": 25,
   "id": "e5587d49",
   "metadata": {},
   "outputs": [
    {
     "data": {
      "text/plain": [
       "array([[ 3, -1, -5],\n",
       "       [-5,  2, -6],\n",
       "       [ 8,  3,  2]])"
      ]
     },
     "execution_count": 25,
     "metadata": {},
     "output_type": "execute_result"
    }
   ],
   "source": [
    "import numpy as np\n",
    "a = np.array([[3, -5 , 8],\n",
    "              [-1 , 2 ,3],\n",
    "              [-5 , -6 , 2]])\n",
    "\n",
    "np.trace(a)\n",
    "np.transpose(a)"
   ]
  },
  {
   "cell_type": "code",
   "execution_count": 24,
   "id": "57287c16",
   "metadata": {},
   "outputs": [
    {
     "data": {
      "text/plain": [
       "array([[ 0.08494208, -0.14671815, -0.11969112],\n",
       "       [-0.05019305,  0.17760618, -0.06563707],\n",
       "       [ 0.06177606,  0.16602317,  0.003861  ]])"
      ]
     },
     "execution_count": 24,
     "metadata": {},
     "output_type": "execute_result"
    }
   ],
   "source": [
    "import scipy.linalg as slin\n",
    "import numpy as np\n",
    "a = np.array([[3, -5 , 8],\n",
    "              [-1 ,2 ,3],\n",
    "              [-5,-6,2]])\n",
    "\n",
    "slin.inv(a)"
   ]
  },
  {
   "cell_type": "code",
   "execution_count": 26,
   "id": "7458dee4",
   "metadata": {},
   "outputs": [
    {
     "data": {
      "text/plain": [
       "matrix([[-19],\n",
       "        [  2],\n",
       "        [-41]])"
      ]
     },
     "execution_count": 26,
     "metadata": {},
     "output_type": "execute_result"
    }
   ],
   "source": [
    "import numpy as np\n",
    "a = np.matrix([[3 , -5 , 8],\n",
    "               [-1 , 2 , 3],\n",
    "               [-5 , -6 , 2]])\n",
    "b = np.matrix([[3],\n",
    "               [4],\n",
    "               [-1]])\n",
    "a * b"
   ]
  },
  {
   "cell_type": "code",
   "execution_count": 27,
   "id": "a17634c1",
   "metadata": {},
   "outputs": [
    {
     "data": {
      "text/plain": [
       "(array([ 1.27082039e+01, -7.08203932e-01, -2.65381787e-17]),\n",
       " array([[ 0.28907816,  0.90041255,  0.40824829],\n",
       "        [ 0.67691721, -0.30761765, -0.81649658],\n",
       "        [ 0.67691721, -0.30761765,  0.40824829]]))"
      ]
     },
     "execution_count": 27,
     "metadata": {},
     "output_type": "execute_result"
    }
   ],
   "source": [
    "# Eigen value problem\n",
    "\n",
    "import numpy as np\n",
    "mat = np.array([[1,2,3] , [4,5,6] , [4,5,6]])\n",
    "\n",
    "np.linalg.eig(mat)"
   ]
  },
  {
   "cell_type": "code",
   "execution_count": 28,
   "id": "f9b73b8a",
   "metadata": {},
   "outputs": [
    {
     "data": {
      "text/plain": [
       "array([ 0.28571429, -0.57142857,  2.28571429])"
      ]
     },
     "execution_count": 28,
     "metadata": {},
     "output_type": "execute_result"
    }
   ],
   "source": [
    "# Finding the value of x,y,z in any 3 equations\n",
    "# x1 + y1 + z1 = a\n",
    "# x2 + y2 + z2 = b\n",
    "# x3 + y3 + z3 = c\n",
    "\n",
    "import numpy as np\n",
    "\n",
    "a= np.array([[1,1,1],[1.5,4,3],[1,2,3]])\n",
    "b = np.array([2,5,6])\n",
    "np.linalg.solve(a,b)"
   ]
  },
  {
   "cell_type": "code",
   "execution_count": null,
   "id": "90b15d3b",
   "metadata": {},
   "outputs": [],
   "source": []
  }
 ],
 "metadata": {
  "kernelspec": {
   "display_name": "Python 3 (ipykernel)",
   "language": "python",
   "name": "python3"
  },
  "language_info": {
   "codemirror_mode": {
    "name": "ipython",
    "version": 3
   },
   "file_extension": ".py",
   "mimetype": "text/x-python",
   "name": "python",
   "nbconvert_exporter": "python",
   "pygments_lexer": "ipython3",
   "version": "3.10.9"
  }
 },
 "nbformat": 4,
 "nbformat_minor": 5
}
